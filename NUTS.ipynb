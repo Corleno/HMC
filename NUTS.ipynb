{
 "cells": [
  {
   "cell_type": "code",
   "execution_count": 11,
   "metadata": {},
   "outputs": [
    {
     "name": "stdout",
     "output_type": "stream",
     "text": [
      "Progress: [##############################] 1000 of 1000 samples\n",
      "[[1.24215405 1.70963051]\n",
      " [1.24215405 1.70963051]\n",
      " [0.58671086 0.96505756]\n",
      " ...\n",
      " [1.07617413 1.18769224]\n",
      " [1.15367191 1.55451378]\n",
      " [0.92479148 1.40091124]]\n"
     ]
    },
    {
     "name": "stderr",
     "output_type": "stream",
     "text": [
      "/usr/local/lib/python3.5/dist-packages/matplotlib/axes/_axes.py:6462: UserWarning: The 'normed' kwarg is deprecated, and has been replaced by the 'density' kwarg.\n",
      "  warnings.warn(\"The 'normed' kwarg is deprecated, and has been \"\n"
     ]
    },
    {
     "data": {
      "text/plain": [
       "<seaborn.axisgrid.JointGrid at 0x7fd90e18c4a8>"
      ]
     },
     "execution_count": 11,
     "metadata": {},
     "output_type": "execute_result"
    },
    {
     "data": {
      "image/png": "[encoded data removed]",
      "text/plain": [
       "<Figure size 432x432 with 3 Axes>"
      ]
     },
     "metadata": {},
     "output_type": "display_data"
    }
   ],
   "source": [
    "import sampyl as smp\n",
    "import numpy as np\n",
    "import seaborn\n",
    "\n",
    "icov = np.linalg.inv(np.array([[1., .8], [.8, 1.]]))\n",
    "y = 0\n",
    "\n",
    "def logp(x):\n",
    "    return (-0.5*np.dot(np.dot(x, icov),x) + y)\n",
    "\n",
    "\n",
    "start = {'x':np.ones(2)}\n",
    "nuts = smp.NUTS(logp, start)\n",
    "chain = nuts.sample(1000)\n",
    "\n",
    "print (chain.x)\n",
    "seaborn.jointplot(chain.x[:,0], chain.x[:,1], stat_func = None)"
   ]
  },
  {
   "cell_type": "code",
   "execution_count": 10,
   "metadata": {},
   "outputs": [
    {
     "name": "stdout",
     "output_type": "stream",
     "text": [
      "Help on class NUTS in module sampyl.samplers.NUTS:\n",
      "\n",
      "class NUTS(sampyl.samplers.base.Sampler)\n",
      " |  No-U-Turn sampler (Hoffman & Gelman, 2014) for sampling from a\n",
      " |  probability distribution defined by a log P(theta) function.\n",
      " |  \n",
      " |  For technical details, see the paper:\n",
      " |  http://www.stat.columbia.edu/~gelman/research/published/nuts.pdf\n",
      " |  \n",
      " |  :param logp: log P(X) function for sampling distribution\n",
      " |  :param start: \n",
      " |      Dictionary of starting state for the sampler. Should have one\n",
      " |      element for each argument of logp.\n",
      " |  :param grad_logp: (optional)\n",
      " |      Function or list of functions that calculate grad log P(theta). \n",
      " |      Pass functions here if you don't want to use autograd for the \n",
      " |      gradients. If logp has multiple parameters, grad_logp must be \n",
      " |      a list of gradient functions w.r.t. each parameter in logp.\n",
      " |  \n",
      " |      If you wish to use a logp function that returns both the logp\n",
      " |      value and the gradient, set grad_logp = True.\n",
      " |  :param scale: (optional) \n",
      " |      Dictionary with same format as start. Scaling for initial \n",
      " |      momentum in Hamiltonian step.\n",
      " |  :param step_size: (optional) *float.*\n",
      " |      Initial step size for the deterministic proposals.\n",
      " |  :param adapt_steps: (optional) *int.*\n",
      " |      Integer number of steps used for adapting the step size to \n",
      " |      achieve a target acceptance rate.\n",
      " |  :param Emax: (optional) *float.* Maximum energy.\n",
      " |  :param target_accept: (optional) *float.* Target acceptance rate.\n",
      " |  :param gamma: (optional) *float.*\n",
      " |  :param k: (optional) *float.* Scales the speed of step size \n",
      " |      adaptation.\n",
      " |  :param t0: (optional) *float.* Slows initial step size adaptation.\n",
      " |  \n",
      " |  Example ::\n",
      " |  \n",
      " |      def logp(x, y):\n",
      " |          ...\n",
      " |  \n",
      " |      start = {'x': x_start, 'y': y_start}\n",
      " |      nuts = sampyl.NUTS(logp, start)\n",
      " |      chain = nuts.sample(1000)\n",
      " |  \n",
      " |  Method resolution order:\n",
      " |      NUTS\n",
      " |      sampyl.samplers.base.Sampler\n",
      " |      builtins.object\n",
      " |  \n",
      " |  Methods defined here:\n",
      " |  \n",
      " |  __init__(self, logp, start, step_size=0.25, adapt_steps=100, Emax=1000.0, target_accept=0.65, gamma=0.05, k=0.75, t0=10.0, **kwargs)\n",
      " |      Initialize self.  See help(type(self)) for accurate signature.\n",
      " |  \n",
      " |  step(self)\n",
      " |      Perform one NUTS step.\n",
      " |  \n",
      " |  ----------------------------------------------------------------------\n",
      " |  Methods inherited from sampyl.samplers.base.Sampler:\n",
      " |  \n",
      " |  __call__(self, num, burn=0, thin=1, n_chains=1, progress_bar=True)\n",
      " |      Call self as a function.\n",
      " |  \n",
      " |  sample(self, num, burn=0, thin=1, n_chains=1, progress_bar=True)\n",
      " |      Sample from :math:`P(X)`\n",
      " |      \n",
      " |      :param num: *int.* Number of samples to draw from :math:`P(X)`.\n",
      " |      :param burn: (optional) *int.*\n",
      " |          Number of samples to discard from the beginning of the chain.\n",
      " |      :param thin: (optional) *float.*\n",
      " |          Thin the samples by this factor.\n",
      " |      :param n_chains: (optional) *int.*\n",
      " |          Number of chains to return. Each chain is given its own\n",
      " |          process and the OS decides how to distribute the processes.\n",
      " |      :param progress_bar: (optional) *boolean.*\n",
      " |          Show the progress bar, default = True.\n",
      " |      :return: Record array with fields taken from arguments of \n",
      " |          logp function.\n",
      " |  \n",
      " |  ----------------------------------------------------------------------\n",
      " |  Data descriptors inherited from sampyl.samplers.base.Sampler:\n",
      " |  \n",
      " |  __dict__\n",
      " |      dictionary for instance variables (if defined)\n",
      " |  \n",
      " |  __weakref__\n",
      " |      list of weak references to the object (if defined)\n",
      "\n"
     ]
    }
   ],
   "source": [
    "help(smp.NUTS)"
   ]
  }
 ],
 "metadata": {
  "kernelspec": {
   "display_name": "Python 3",
   "language": "python",
   "name": "python3"
  },
  "language_info": {
   "codemirror_mode": {
    "name": "ipython",
    "version": 3
   },
   "file_extension": ".py",
   "mimetype": "text/x-python",
   "name": "python",
   "nbconvert_exporter": "python",
   "pygments_lexer": "ipython3",
   "version": "3.5.2"
  }
 },
 "nbformat": 4,
 "nbformat_minor": 2
}
